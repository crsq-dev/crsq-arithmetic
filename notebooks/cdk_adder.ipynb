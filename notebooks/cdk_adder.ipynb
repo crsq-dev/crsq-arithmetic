{
 "cells": [
  {
   "cell_type": "code",
   "execution_count": null,
   "metadata": {},
   "outputs": [],
   "source": [
    "import crsq_arithmetic as ari\n",
    "from qiskit.circuit import QuantumCircuit, QuantumRegister\n",
    "import itertools\n",
    "\n",
    "n=2\n",
    "a=QuantumRegister(n, 'a')\n",
    "b=QuantumRegister(n+1, 'b')\n",
    "cr=QuantumRegister(1,'cr')\n",
    "\n",
    "qc=QuantumCircuit(a,b,cr)\n",
    "\n",
    "ari.cdk_adder(qc,a,b,cr, is_unsigned=True)\n",
    "qubits = [b[0],a[0],cr[0]] + list(itertools.chain.from_iterable(zip(b[1:],a[1:]))) + [b[n]]\n",
    "bit_idx = [qc.qubits.index(bit) for bit in qubits]\n",
    "qc.draw(scale=0.6, wire_order=bit_idx)"
   ]
  },
  {
   "cell_type": "code",
   "execution_count": null,
   "metadata": {},
   "outputs": [],
   "source": [
    "import crsq_arithmetic as ari\n",
    "from qiskit.circuit import QuantumCircuit, QuantumRegister\n",
    "import itertools\n",
    "\n",
    "n=4\n",
    "a=QuantumRegister(n, 'a')\n",
    "b=QuantumRegister(n+1, 'b')\n",
    "cr=QuantumRegister(1,'cr')\n",
    "ctrl = QuantumRegister(1, 'ctrl')\n",
    "\n",
    "qc=QuantumCircuit(ctrl, a,b,cr)\n",
    "\n",
    "ari.cdk_adder(qc,a,b,cr, is_unsigned=True, opt_ctrl_bit=ctrl)\n",
    "qubits = [ctrl[0],b[0],a[0],cr[0]] + list(itertools.chain.from_iterable(zip(b[1:],a[1:]))) + [b[n]]\n",
    "bit_idx = [qc.qubits.index(bit) for bit in qubits]\n",
    "qc.draw(scale=0.6, wire_order=bit_idx)"
   ]
  }
 ],
 "metadata": {
  "kernelspec": {
   "display_name": ".venv",
   "language": "python",
   "name": "python3"
  },
  "language_info": {
   "codemirror_mode": {
    "name": "ipython",
    "version": 3
   },
   "file_extension": ".py",
   "mimetype": "text/x-python",
   "name": "python",
   "nbconvert_exporter": "python",
   "pygments_lexer": "ipython3",
   "version": "3.10.12"
  }
 },
 "nbformat": 4,
 "nbformat_minor": 2
}
